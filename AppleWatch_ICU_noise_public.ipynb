{
 "cells": [
  {
   "cell_type": "markdown",
   "metadata": {},
   "source": [
    "<img src=\"img/logo.png\" align=\"left\"/>"
   ]
  },
  {
   "cell_type": "markdown",
   "metadata": {},
   "source": [
    "# Assessment of Noise Levels in the Intensive Care Unit Using Apple Watch"
   ]
  },
  {
   "cell_type": "markdown",
   "metadata": {},
   "source": [
    "## STEP 1: Export Data from Apple Health App on your iPhone"
   ]
  },
  {
   "cell_type": "markdown",
   "metadata": {},
   "source": [
    "* Export your data from the Health app on your iPhone\n",
    "* Unzip export.zip into this folder and rename the unzipped folder to data\n",
    "* Inside the folder /data there should be a file called export.xml"
   ]
  },
  {
   "cell_type": "markdown",
   "metadata": {},
   "source": [
    "## STEP 2: Extract Environmental Audio Exposure data"
   ]
  },
  {
   "cell_type": "markdown",
   "metadata": {},
   "source": [
    "* Command Line Tool to process data exported from Health app contained in the export.xml file (Credits: https://github.com/tdda/applehealthdata)\n",
    "* This script create multiple .csv files for each data type\n",
    "* To analyse noise leves we need only EnvironmentalAudioExposure.csv file as it contains recordings of noise levels\n",
    "* Based on the size of your Health daata, this script may take several minutes to complete"
   ]
  },
  {
   "cell_type": "code",
   "execution_count": null,
   "metadata": {},
   "outputs": [],
   "source": [
    "%run -i 'apple-health-data-parser' 'data/export.xml' "
   ]
  },
  {
   "cell_type": "markdown",
   "metadata": {},
   "source": [
    "## STEP 3: Manually select samples recorded in the ICU"
   ]
  },
  {
   "cell_type": "markdown",
   "metadata": {},
   "source": [
    "* Open EnvironmentalAudioExposure.csv file with Excel containing all data about noise levels recorded by Apple Watch\n",
    "* Remove rows of samples recorded outside ICU\n",
    "* Save file as noise_samples_icu.csv inside /data folder"
   ]
  },
  {
   "cell_type": "markdown",
   "metadata": {},
   "source": [
    "## STEP 3: Data Analysis"
   ]
  },
  {
   "cell_type": "code",
   "execution_count": 29,
   "metadata": {},
   "outputs": [],
   "source": [
    "#Import necessary Libraries to perform data analysis\n",
    "from datetime import date, datetime, timedelta as td\n",
    "import pytz\n",
    "import numpy as np\n",
    "import scipy.stats as stats\n",
    "import pandas as pd\n",
    "import glob\n",
    "import matplotlib, matplotlib.pyplot as plt\n",
    "%matplotlib inline"
   ]
  },
  {
   "cell_type": "code",
   "execution_count": 30,
   "metadata": {},
   "outputs": [],
   "source": [
    "# Functions to convert UTC to your time zone and extract date and time\n",
    "convert_tz = lambda x: x.to_pydatetime().replace(tzinfo=pytz.utc).astimezone(pytz.timezone('Europe/Rome'))\n",
    "extract_year = lambda x: convert_tz(x).year\n",
    "extract_month = lambda x: '{}-{:02}'.format(convert_tz(x).year, convert_tz(x).month)\n",
    "extract_date = lambda x: '{}-{:02}-{:02}'.format(convert_tz(x).year, convert_tz(x).month, convert_tz(x).day)\n",
    "extract_day = lambda x: convert_tz(x).day\n",
    "extract_hour = lambda x: convert_tz(x).hour\n",
    "extract_time = lambda x: convert_tz(x).time()\n",
    "extract_minute = lambda x: convert_tz(x).minute\n",
    "extract_day_of_week = lambda x: convert_tz(x).weekday()"
   ]
  },
  {
   "cell_type": "code",
   "execution_count": 31,
   "metadata": {},
   "outputs": [],
   "source": [
    "#Read file noise_samples_icu.csv containing all data about noise levels recorded by Apple Watch in ICU\n",
    "df_noise = pd.read_csv(\"data/noise_samples_icu.csv\")"
   ]
  },
  {
   "cell_type": "code",
   "execution_count": 32,
   "metadata": {},
   "outputs": [],
   "source": [
    "#Coversion of date and time field\n",
    "df_noise['startDate'] = pd.to_datetime(df_noise['startDate'])\n",
    "df_noise['endDate'] = pd.to_datetime(df_noise['endDate'])\n",
    "\n",
    "#Extract of date from datetime field\n",
    "df_noise['date'] = df_noise['startDate'].map(extract_date)\n",
    "\n",
    "#Extract hour from datetime field: 2019-11-09 06:40:12+01:00 ==> 6\n",
    "df_noise['hour'] = df_noise['startDate'].map(extract_hour)\n",
    "\n",
    "#Extract Day Of Week (DOW)\n",
    "#0 = Monday, ..., 6 = Sunday\n",
    "df_noise['dow'] = df_noise['startDate'].map(extract_day_of_week)"
   ]
  },
  {
   "cell_type": "code",
   "execution_count": 33,
   "metadata": {},
   "outputs": [
    {
     "data": {
      "text/html": [
       "<div>\n",
       "<style scoped>\n",
       "    .dataframe tbody tr th:only-of-type {\n",
       "        vertical-align: middle;\n",
       "    }\n",
       "\n",
       "    .dataframe tbody tr th {\n",
       "        vertical-align: top;\n",
       "    }\n",
       "\n",
       "    .dataframe thead th {\n",
       "        text-align: right;\n",
       "    }\n",
       "</style>\n",
       "<table border=\"1\" class=\"dataframe\">\n",
       "  <thead>\n",
       "    <tr style=\"text-align: right;\">\n",
       "      <th></th>\n",
       "      <th>startDate</th>\n",
       "      <th>endDate</th>\n",
       "      <th>value</th>\n",
       "      <th>date</th>\n",
       "      <th>hour</th>\n",
       "      <th>dow</th>\n",
       "    </tr>\n",
       "  </thead>\n",
       "  <tbody>\n",
       "    <tr>\n",
       "      <th>0</th>\n",
       "      <td>2019-11-09 06:10:17+01:00</td>\n",
       "      <td>2019-11-09 06:40:12+01:00</td>\n",
       "      <td>61.1100</td>\n",
       "      <td>2019-11-09</td>\n",
       "      <td>7</td>\n",
       "      <td>5</td>\n",
       "    </tr>\n",
       "    <tr>\n",
       "      <th>1</th>\n",
       "      <td>2019-11-09 06:40:12+01:00</td>\n",
       "      <td>2019-11-09 07:10:12+01:00</td>\n",
       "      <td>68.2660</td>\n",
       "      <td>2019-11-09</td>\n",
       "      <td>7</td>\n",
       "      <td>5</td>\n",
       "    </tr>\n",
       "    <tr>\n",
       "      <th>2</th>\n",
       "      <td>2019-11-09 07:10:12+01:00</td>\n",
       "      <td>2019-11-09 07:40:12+01:00</td>\n",
       "      <td>75.0590</td>\n",
       "      <td>2019-11-09</td>\n",
       "      <td>8</td>\n",
       "      <td>5</td>\n",
       "    </tr>\n",
       "    <tr>\n",
       "      <th>3</th>\n",
       "      <td>2019-11-09 07:40:12+01:00</td>\n",
       "      <td>2019-11-09 08:10:07+01:00</td>\n",
       "      <td>63.1557</td>\n",
       "      <td>2019-11-09</td>\n",
       "      <td>8</td>\n",
       "      <td>5</td>\n",
       "    </tr>\n",
       "    <tr>\n",
       "      <th>4</th>\n",
       "      <td>2019-11-09 08:10:07+01:00</td>\n",
       "      <td>2019-11-09 08:40:07+01:00</td>\n",
       "      <td>63.3232</td>\n",
       "      <td>2019-11-09</td>\n",
       "      <td>9</td>\n",
       "      <td>5</td>\n",
       "    </tr>\n",
       "    <tr>\n",
       "      <th>5</th>\n",
       "      <td>2019-11-09 08:40:07+01:00</td>\n",
       "      <td>2019-11-09 09:10:07+01:00</td>\n",
       "      <td>68.7593</td>\n",
       "      <td>2019-11-09</td>\n",
       "      <td>9</td>\n",
       "      <td>5</td>\n",
       "    </tr>\n",
       "    <tr>\n",
       "      <th>6</th>\n",
       "      <td>2019-11-09 09:10:07+01:00</td>\n",
       "      <td>2019-11-09 09:40:02+01:00</td>\n",
       "      <td>68.1763</td>\n",
       "      <td>2019-11-09</td>\n",
       "      <td>10</td>\n",
       "      <td>5</td>\n",
       "    </tr>\n",
       "    <tr>\n",
       "      <th>7</th>\n",
       "      <td>2019-11-09 09:40:02+01:00</td>\n",
       "      <td>2019-11-09 10:09:57+01:00</td>\n",
       "      <td>63.7485</td>\n",
       "      <td>2019-11-09</td>\n",
       "      <td>10</td>\n",
       "      <td>5</td>\n",
       "    </tr>\n",
       "    <tr>\n",
       "      <th>8</th>\n",
       "      <td>2019-11-09 10:09:57+01:00</td>\n",
       "      <td>2019-11-09 10:39:57+01:00</td>\n",
       "      <td>68.8601</td>\n",
       "      <td>2019-11-09</td>\n",
       "      <td>11</td>\n",
       "      <td>5</td>\n",
       "    </tr>\n",
       "    <tr>\n",
       "      <th>9</th>\n",
       "      <td>2019-11-09 10:39:57+01:00</td>\n",
       "      <td>2019-11-09 11:09:57+01:00</td>\n",
       "      <td>66.7737</td>\n",
       "      <td>2019-11-09</td>\n",
       "      <td>11</td>\n",
       "      <td>5</td>\n",
       "    </tr>\n",
       "  </tbody>\n",
       "</table>\n",
       "</div>"
      ],
      "text/plain": [
       "                  startDate                   endDate    value        date  \\\n",
       "0 2019-11-09 06:10:17+01:00 2019-11-09 06:40:12+01:00  61.1100  2019-11-09   \n",
       "1 2019-11-09 06:40:12+01:00 2019-11-09 07:10:12+01:00  68.2660  2019-11-09   \n",
       "2 2019-11-09 07:10:12+01:00 2019-11-09 07:40:12+01:00  75.0590  2019-11-09   \n",
       "3 2019-11-09 07:40:12+01:00 2019-11-09 08:10:07+01:00  63.1557  2019-11-09   \n",
       "4 2019-11-09 08:10:07+01:00 2019-11-09 08:40:07+01:00  63.3232  2019-11-09   \n",
       "5 2019-11-09 08:40:07+01:00 2019-11-09 09:10:07+01:00  68.7593  2019-11-09   \n",
       "6 2019-11-09 09:10:07+01:00 2019-11-09 09:40:02+01:00  68.1763  2019-11-09   \n",
       "7 2019-11-09 09:40:02+01:00 2019-11-09 10:09:57+01:00  63.7485  2019-11-09   \n",
       "8 2019-11-09 10:09:57+01:00 2019-11-09 10:39:57+01:00  68.8601  2019-11-09   \n",
       "9 2019-11-09 10:39:57+01:00 2019-11-09 11:09:57+01:00  66.7737  2019-11-09   \n",
       "\n",
       "   hour  dow  \n",
       "0     7    5  \n",
       "1     7    5  \n",
       "2     8    5  \n",
       "3     8    5  \n",
       "4     9    5  \n",
       "5     9    5  \n",
       "6    10    5  \n",
       "7    10    5  \n",
       "8    11    5  \n",
       "9    11    5  "
      ]
     },
     "execution_count": 33,
     "metadata": {},
     "output_type": "execute_result"
    }
   ],
   "source": [
    "#Use only needed columns\n",
    "df_noise = df_noise[['startDate','endDate', 'value', 'date', 'hour', 'dow']]\n",
    "\n",
    "#Display top 10 rows\n",
    "df_noise.head(10)"
   ]
  },
  {
   "cell_type": "markdown",
   "metadata": {},
   "source": [
    "### Analysis 1: Noise levels in ICU during daytime vs night-time"
   ]
  },
  {
   "cell_type": "code",
   "execution_count": 34,
   "metadata": {},
   "outputs": [],
   "source": [
    "# 1. Define daytime and night-time hours\n",
    "h_start_day = 7 #included\n",
    "h_end_day = 22 #included\n",
    "\n",
    "# 2. Compute a column that identifies samples as daytime (= 1) and night-time (= 0)\n",
    "df_noise.loc[(df_noise['hour'] >= h_start_day) & (df_noise['hour'] <= h_end_day), 'daytime'] = 1 \n",
    "df_noise.loc[df_noise['daytime'] != 1, 'daytime'] = 0\n",
    "\n",
    "# 3. Display top 10 rows\n",
    "df_noise.head(10)\n",
    "\n",
    "# 4. Group by daytime (= 1) and night-time (= 0)\n",
    "groupby_hours = df_noise.groupby('daytime')"
   ]
  },
  {
   "cell_type": "code",
   "execution_count": 35,
   "metadata": {},
   "outputs": [
    {
     "data": {
      "text/html": [
       "<div>\n",
       "<style scoped>\n",
       "    .dataframe tbody tr th:only-of-type {\n",
       "        vertical-align: middle;\n",
       "    }\n",
       "\n",
       "    .dataframe tbody tr th {\n",
       "        vertical-align: top;\n",
       "    }\n",
       "\n",
       "    .dataframe thead th {\n",
       "        text-align: right;\n",
       "    }\n",
       "</style>\n",
       "<table border=\"1\" class=\"dataframe\">\n",
       "  <thead>\n",
       "    <tr style=\"text-align: right;\">\n",
       "      <th></th>\n",
       "      <th>count</th>\n",
       "      <th>mean</th>\n",
       "      <th>std</th>\n",
       "      <th>min</th>\n",
       "      <th>25%</th>\n",
       "      <th>50%</th>\n",
       "      <th>75%</th>\n",
       "      <th>max</th>\n",
       "    </tr>\n",
       "    <tr>\n",
       "      <th>daytime</th>\n",
       "      <th></th>\n",
       "      <th></th>\n",
       "      <th></th>\n",
       "      <th></th>\n",
       "      <th></th>\n",
       "      <th></th>\n",
       "      <th></th>\n",
       "      <th></th>\n",
       "    </tr>\n",
       "  </thead>\n",
       "  <tbody>\n",
       "    <tr>\n",
       "      <th>0.0</th>\n",
       "      <td>367.0</td>\n",
       "      <td>64.112867</td>\n",
       "      <td>4.177578</td>\n",
       "      <td>48.9973</td>\n",
       "      <td>61.71830</td>\n",
       "      <td>64.1704</td>\n",
       "      <td>67.0787</td>\n",
       "      <td>76.5906</td>\n",
       "    </tr>\n",
       "    <tr>\n",
       "      <th>1.0</th>\n",
       "      <td>719.0</td>\n",
       "      <td>66.569402</td>\n",
       "      <td>6.735177</td>\n",
       "      <td>31.0714</td>\n",
       "      <td>65.27455</td>\n",
       "      <td>67.1327</td>\n",
       "      <td>69.2362</td>\n",
       "      <td>88.6490</td>\n",
       "    </tr>\n",
       "  </tbody>\n",
       "</table>\n",
       "</div>"
      ],
      "text/plain": [
       "         count       mean       std      min       25%      50%      75%  \\\n",
       "daytime                                                                    \n",
       "0.0      367.0  64.112867  4.177578  48.9973  61.71830  64.1704  67.0787   \n",
       "1.0      719.0  66.569402  6.735177  31.0714  65.27455  67.1327  69.2362   \n",
       "\n",
       "             max  \n",
       "daytime           \n",
       "0.0      76.5906  \n",
       "1.0      88.6490  "
      ]
     },
     "execution_count": 35,
     "metadata": {},
     "output_type": "execute_result"
    }
   ],
   "source": [
    "# 4. Display count, mean, std, min, 25%, 50%, 75% and max\n",
    "groupby_hours[\"value\"].describe()"
   ]
  },
  {
   "cell_type": "code",
   "execution_count": 36,
   "metadata": {},
   "outputs": [
    {
     "name": "stdout",
     "output_type": "stream",
     "text": [
      "t = 7.385116247757598\n",
      "p = 3.108910072761726e-13\n"
     ]
    }
   ],
   "source": [
    "# 5. Compute t-test between the two groups: daytime (= 1) and night-time (= 0)\n",
    "\n",
    "# Create two dataframes with noise levels from the two groups\n",
    "df_values_daytime = df_noise[df_noise[\"daytime\"]==1][\"value\"]\n",
    "df_values_nighttime = df_noise[df_noise[\"daytime\"]==0][\"value\"]\n",
    "\n",
    "# 5. Compute and display t-test\n",
    "t2, p2 = stats.ttest_ind(a=df_values_daytime,b=df_values_nighttime ,equal_var = False)\n",
    "print(\"t = \" + str(t2))\n",
    "print(\"p = \" + str(p2))"
   ]
  },
  {
   "cell_type": "code",
   "execution_count": 37,
   "metadata": {},
   "outputs": [
    {
     "data": {
      "image/png": "[encoded data removed]",
      "text/plain": [
       "<Figure size 432x288 with 2 Axes>"
      ]
     },
     "metadata": {
      "needs_background": "light"
     },
     "output_type": "display_data"
    }
   ],
   "source": [
    "# 6. Display BoxPlot and save the image\n",
    "\n",
    "# Create BoxPlot\n",
    "boxplot = groupby_hours.boxplot(column=['value'], return_type='axes')\n",
    "\n",
    "# Save figure as PDF\n",
    "plt.savefig('figures/boxplot_daytime_vs_nighttime.pdf')"
   ]
  },
  {
   "cell_type": "markdown",
   "metadata": {},
   "source": [
    "### Analysis 2: Noise levels in ICU by day of week"
   ]
  },
  {
   "cell_type": "code",
   "execution_count": 38,
   "metadata": {},
   "outputs": [
    {
     "data": {
      "text/html": [
       "<div>\n",
       "<style scoped>\n",
       "    .dataframe tbody tr th:only-of-type {\n",
       "        vertical-align: middle;\n",
       "    }\n",
       "\n",
       "    .dataframe tbody tr th {\n",
       "        vertical-align: top;\n",
       "    }\n",
       "\n",
       "    .dataframe thead tr th {\n",
       "        text-align: left;\n",
       "    }\n",
       "\n",
       "    .dataframe thead tr:last-of-type th {\n",
       "        text-align: right;\n",
       "    }\n",
       "</style>\n",
       "<table border=\"1\" class=\"dataframe\">\n",
       "  <thead>\n",
       "    <tr>\n",
       "      <th></th>\n",
       "      <th colspan=\"2\" halign=\"left\">value</th>\n",
       "    </tr>\n",
       "    <tr>\n",
       "      <th></th>\n",
       "      <th>mean</th>\n",
       "      <th>std</th>\n",
       "    </tr>\n",
       "    <tr>\n",
       "      <th>dow</th>\n",
       "      <th></th>\n",
       "      <th></th>\n",
       "    </tr>\n",
       "  </thead>\n",
       "  <tbody>\n",
       "    <tr>\n",
       "      <th>0</th>\n",
       "      <td>64.669809</td>\n",
       "      <td>5.059864</td>\n",
       "    </tr>\n",
       "    <tr>\n",
       "      <th>1</th>\n",
       "      <td>67.181821</td>\n",
       "      <td>3.029694</td>\n",
       "    </tr>\n",
       "    <tr>\n",
       "      <th>2</th>\n",
       "      <td>67.141110</td>\n",
       "      <td>3.380042</td>\n",
       "    </tr>\n",
       "    <tr>\n",
       "      <th>3</th>\n",
       "      <td>65.773104</td>\n",
       "      <td>4.164719</td>\n",
       "    </tr>\n",
       "    <tr>\n",
       "      <th>4</th>\n",
       "      <td>67.486586</td>\n",
       "      <td>3.728125</td>\n",
       "    </tr>\n",
       "    <tr>\n",
       "      <th>5</th>\n",
       "      <td>66.095206</td>\n",
       "      <td>3.844973</td>\n",
       "    </tr>\n",
       "    <tr>\n",
       "      <th>6</th>\n",
       "      <td>61.809254</td>\n",
       "      <td>11.662093</td>\n",
       "    </tr>\n",
       "  </tbody>\n",
       "</table>\n",
       "</div>"
      ],
      "text/plain": [
       "         value           \n",
       "          mean        std\n",
       "dow                      \n",
       "0    64.669809   5.059864\n",
       "1    67.181821   3.029694\n",
       "2    67.141110   3.380042\n",
       "3    65.773104   4.164719\n",
       "4    67.486586   3.728125\n",
       "5    66.095206   3.844973\n",
       "6    61.809254  11.662093"
      ]
     },
     "execution_count": 38,
     "metadata": {},
     "output_type": "execute_result"
    }
   ],
   "source": [
    "# 1. Group by day of week (dow) and calculate mean and std for each dow\n",
    "# 0 = Monday, ..., 6 = Sunday\n",
    "df_avg_noise_dow = df_noise.groupby('dow').agg({'value': ['mean', 'std']})\n",
    "\n",
    "# 2. Display top 10 rows\n",
    "df_avg_noise_dow.head(10)"
   ]
  },
  {
   "cell_type": "code",
   "execution_count": 39,
   "metadata": {},
   "outputs": [
    {
     "data": {
      "image/png": "[encoded data removed]",
      "text/plain": [
       "<Figure size 720x432 with 1 Axes>"
      ]
     },
     "metadata": {
      "needs_background": "light"
     },
     "output_type": "display_data"
    }
   ],
   "source": [
    "# 3. Display Bar Plot with std\n",
    "fig, ax = plt.subplots(figsize=[10, 6])\n",
    "\n",
    "ax = df_avg_noise_dow[\"value\"][\"mean\"].plot(kind='bar', x='day_of_week', color='blue', yerr=df_avg_noise_dow[\"value\"][\"std\"])\n",
    "ax.set_ylim((0, 80))\n",
    "\n",
    "n_groups = len(df_avg_noise_dow)\n",
    "index = np.arange(n_groups)\n",
    "opacity = 0.75\n",
    "\n",
    "ax.yaxis.grid(True)\n",
    "\n",
    "plt.suptitle('Average Noise Levels by Day of the Week', fontsize=16)\n",
    "dow_labels = ['Monday', 'Tuesday', 'Wednesday', 'Thursday', 'Friday', 'Saturday', 'Sunday']\n",
    "plt.xticks(index, dow_labels, rotation=45)\n",
    "plt.xlabel('Day of Week', fontsize=12, color='black')\n",
    "plt.ylabel('Noise Levels (dBA)', fontsize=12, color='black')\n",
    "\n",
    "# 4. Save figure as PDF\n",
    "plt.savefig('figures/barplot_avg_noise_by_dow.pdf')"
   ]
  },
  {
   "cell_type": "markdown",
   "metadata": {},
   "source": [
    "### Analysis 3: Noise levels in ICU by hour of the day"
   ]
  },
  {
   "cell_type": "code",
   "execution_count": 40,
   "metadata": {},
   "outputs": [
    {
     "data": {
      "text/html": [
       "<div>\n",
       "<style scoped>\n",
       "    .dataframe tbody tr th:only-of-type {\n",
       "        vertical-align: middle;\n",
       "    }\n",
       "\n",
       "    .dataframe tbody tr th {\n",
       "        vertical-align: top;\n",
       "    }\n",
       "\n",
       "    .dataframe thead tr th {\n",
       "        text-align: left;\n",
       "    }\n",
       "\n",
       "    .dataframe thead tr:last-of-type th {\n",
       "        text-align: right;\n",
       "    }\n",
       "</style>\n",
       "<table border=\"1\" class=\"dataframe\">\n",
       "  <thead>\n",
       "    <tr>\n",
       "      <th></th>\n",
       "      <th colspan=\"2\" halign=\"left\">value</th>\n",
       "    </tr>\n",
       "    <tr>\n",
       "      <th></th>\n",
       "      <th>mean</th>\n",
       "      <th>std</th>\n",
       "    </tr>\n",
       "    <tr>\n",
       "      <th>hour</th>\n",
       "      <th></th>\n",
       "      <th></th>\n",
       "    </tr>\n",
       "  </thead>\n",
       "  <tbody>\n",
       "    <tr>\n",
       "      <th>0</th>\n",
       "      <td>65.972021</td>\n",
       "      <td>3.218239</td>\n",
       "    </tr>\n",
       "    <tr>\n",
       "      <th>1</th>\n",
       "      <td>64.751429</td>\n",
       "      <td>3.764711</td>\n",
       "    </tr>\n",
       "    <tr>\n",
       "      <th>2</th>\n",
       "      <td>64.243696</td>\n",
       "      <td>3.412625</td>\n",
       "    </tr>\n",
       "    <tr>\n",
       "      <th>3</th>\n",
       "      <td>63.246933</td>\n",
       "      <td>3.821426</td>\n",
       "    </tr>\n",
       "    <tr>\n",
       "      <th>4</th>\n",
       "      <td>61.162225</td>\n",
       "      <td>4.362913</td>\n",
       "    </tr>\n",
       "    <tr>\n",
       "      <th>5</th>\n",
       "      <td>62.326521</td>\n",
       "      <td>4.349785</td>\n",
       "    </tr>\n",
       "    <tr>\n",
       "      <th>6</th>\n",
       "      <td>64.177603</td>\n",
       "      <td>3.900302</td>\n",
       "    </tr>\n",
       "    <tr>\n",
       "      <th>7</th>\n",
       "      <td>66.269507</td>\n",
       "      <td>2.430642</td>\n",
       "    </tr>\n",
       "    <tr>\n",
       "      <th>8</th>\n",
       "      <td>67.619404</td>\n",
       "      <td>2.937055</td>\n",
       "    </tr>\n",
       "    <tr>\n",
       "      <th>9</th>\n",
       "      <td>67.093187</td>\n",
       "      <td>6.244321</td>\n",
       "    </tr>\n",
       "    <tr>\n",
       "      <th>10</th>\n",
       "      <td>67.234424</td>\n",
       "      <td>8.980887</td>\n",
       "    </tr>\n",
       "    <tr>\n",
       "      <th>11</th>\n",
       "      <td>66.530700</td>\n",
       "      <td>7.963518</td>\n",
       "    </tr>\n",
       "    <tr>\n",
       "      <th>12</th>\n",
       "      <td>66.590239</td>\n",
       "      <td>8.700681</td>\n",
       "    </tr>\n",
       "    <tr>\n",
       "      <th>13</th>\n",
       "      <td>67.465511</td>\n",
       "      <td>8.142208</td>\n",
       "    </tr>\n",
       "    <tr>\n",
       "      <th>14</th>\n",
       "      <td>66.272278</td>\n",
       "      <td>8.188320</td>\n",
       "    </tr>\n",
       "    <tr>\n",
       "      <th>15</th>\n",
       "      <td>65.478352</td>\n",
       "      <td>7.877435</td>\n",
       "    </tr>\n",
       "    <tr>\n",
       "      <th>16</th>\n",
       "      <td>66.487196</td>\n",
       "      <td>8.177797</td>\n",
       "    </tr>\n",
       "    <tr>\n",
       "      <th>17</th>\n",
       "      <td>65.281702</td>\n",
       "      <td>7.613496</td>\n",
       "    </tr>\n",
       "    <tr>\n",
       "      <th>18</th>\n",
       "      <td>65.547991</td>\n",
       "      <td>7.703148</td>\n",
       "    </tr>\n",
       "    <tr>\n",
       "      <th>19</th>\n",
       "      <td>66.942896</td>\n",
       "      <td>6.169718</td>\n",
       "    </tr>\n",
       "    <tr>\n",
       "      <th>20</th>\n",
       "      <td>67.010054</td>\n",
       "      <td>3.159570</td>\n",
       "    </tr>\n",
       "    <tr>\n",
       "      <th>21</th>\n",
       "      <td>65.892592</td>\n",
       "      <td>2.871828</td>\n",
       "    </tr>\n",
       "    <tr>\n",
       "      <th>22</th>\n",
       "      <td>67.438035</td>\n",
       "      <td>2.870342</td>\n",
       "    </tr>\n",
       "    <tr>\n",
       "      <th>23</th>\n",
       "      <td>67.535068</td>\n",
       "      <td>3.083778</td>\n",
       "    </tr>\n",
       "  </tbody>\n",
       "</table>\n",
       "</div>"
      ],
      "text/plain": [
       "          value          \n",
       "           mean       std\n",
       "hour                     \n",
       "0     65.972021  3.218239\n",
       "1     64.751429  3.764711\n",
       "2     64.243696  3.412625\n",
       "3     63.246933  3.821426\n",
       "4     61.162225  4.362913\n",
       "5     62.326521  4.349785\n",
       "6     64.177603  3.900302\n",
       "7     66.269507  2.430642\n",
       "8     67.619404  2.937055\n",
       "9     67.093187  6.244321\n",
       "10    67.234424  8.980887\n",
       "11    66.530700  7.963518\n",
       "12    66.590239  8.700681\n",
       "13    67.465511  8.142208\n",
       "14    66.272278  8.188320\n",
       "15    65.478352  7.877435\n",
       "16    66.487196  8.177797\n",
       "17    65.281702  7.613496\n",
       "18    65.547991  7.703148\n",
       "19    66.942896  6.169718\n",
       "20    67.010054  3.159570\n",
       "21    65.892592  2.871828\n",
       "22    67.438035  2.870342\n",
       "23    67.535068  3.083778"
      ]
     },
     "execution_count": 40,
     "metadata": {},
     "output_type": "execute_result"
    }
   ],
   "source": [
    "# 1. Group by hour of the day and calculate mean and std for each hour\n",
    "df_noise_by_hour = df_noise.groupby('hour').agg({'value': ['mean', 'std']})\n",
    "\n",
    "# 2. Display all rows with mean and std\n",
    "df_noise_by_hour"
   ]
  },
  {
   "cell_type": "code",
   "execution_count": 41,
   "metadata": {},
   "outputs": [
    {
     "data": {
      "image/png": "[encoded data removed]",
      "text/plain": [
       "<Figure size 720x360 with 1 Axes>"
      ]
     },
     "metadata": {
      "needs_background": "light"
     },
     "output_type": "display_data"
    }
   ],
   "source": [
    "# 3. Display Line Plot with std\n",
    "fig, ax = plt.subplots(figsize=[10, 6])\n",
    "ax = df_noise_by_hour[\"value\"][\"mean\"].plot(kind='line', figsize=(10, 5), yerr=df_noise_by_hour[\"value\"][\"std\"], legend=False, linewidth=2, alpha=1, marker='o', color='black', markeredgecolor='black', markerfacecolor='yellow', markersize=8, markeredgewidth=2)\n",
    "\n",
    "xlabels = df_noise_by_hour.index.map(lambda x: '{:02}:00'.format(x))\n",
    "ax.set_xticks(range(len(xlabels)))\n",
    "ax.set_xticklabels(xlabels, rotation=45, rotation_mode='anchor', ha='right')\n",
    "\n",
    "ax.set_xlim((df_noise_by_hour.index[0], df_noise_by_hour.index[-1]))\n",
    "ax.set_ylim((0, 100))\n",
    "\n",
    "ax.yaxis.grid(True)\n",
    "ax.set_ylabel('ICU Noise Levels (dBA)')\n",
    "ax.set_xlabel('Hours')\n",
    "plt.suptitle('Average noise levels by hour of the day', fontsize=16)\n",
    "\n",
    "# 4. Save figure as PDF\n",
    "plt.savefig('figures/lineplot_noise_by_hour.pdf')"
   ]
  },
  {
   "cell_type": "markdown",
   "metadata": {},
   "source": [
    "### Analysis 4: Noise levels in ICU within WHO recommended range"
   ]
  },
  {
   "cell_type": "code",
   "execution_count": 42,
   "metadata": {},
   "outputs": [],
   "source": [
    "# 1. Filters\n",
    "dayhours_filter = df_noise[\"daytime\"] == 1\n",
    "nighthours_filter = df_noise[\"daytime\"] == 0\n",
    "WHO_day_35dBA_limit = df_noise[\"value\"] <= 35\n",
    "WHO_night_30dBA_limit = df_noise[\"value\"] <= 30\n",
    "\n",
    "# 2. Count totale samples and samples within range during daytime and nighttime\n",
    "values_during_dayhours = df_noise[\"value\"][dayhours_filter].count()\n",
    "values_below_35dba_during_dayhours = df_noise[\"value\"][WHO_day_35dBA_limit].count()\n",
    "\n",
    "values_during_nighthours = df_noise[\"value\"][nighthours_filter].count()\n",
    "values_below_30dba_during_nighthours = df_noise[\"value\"][WHO_night_30dBA_limit].count()"
   ]
  },
  {
   "cell_type": "code",
   "execution_count": 43,
   "metadata": {},
   "outputs": [
    {
     "name": "stdout",
     "output_type": "stream",
     "text": [
      "% of values within WHO 35 dBA limit during daytime:\n",
      "2.781641168289291\n"
     ]
    }
   ],
   "source": [
    "# 3. Display results\n",
    "print(\"% of values within WHO 35 dBA limit during daytime:\")\n",
    "print((values_below_35dba_during_dayhours/values_during_dayhours)*100)"
   ]
  },
  {
   "cell_type": "code",
   "execution_count": 44,
   "metadata": {},
   "outputs": [
    {
     "name": "stdout",
     "output_type": "stream",
     "text": [
      "% of values within WHO 30 dBA limit during night:\n",
      "0.0\n"
     ]
    }
   ],
   "source": [
    "print(\"% of values within WHO 30 dBA limit during night:\")\n",
    "print((values_below_30dba_during_nighthours/values_during_nighthours)*100)"
   ]
  },
  {
   "cell_type": "markdown",
   "metadata": {},
   "source": [
    "### Other analysis"
   ]
  },
  {
   "cell_type": "code",
   "execution_count": 45,
   "metadata": {},
   "outputs": [
    {
     "data": {
      "text/html": [
       "<div>\n",
       "<style scoped>\n",
       "    .dataframe tbody tr th:only-of-type {\n",
       "        vertical-align: middle;\n",
       "    }\n",
       "\n",
       "    .dataframe tbody tr th {\n",
       "        vertical-align: top;\n",
       "    }\n",
       "\n",
       "    .dataframe thead th {\n",
       "        text-align: right;\n",
       "    }\n",
       "</style>\n",
       "<table border=\"1\" class=\"dataframe\">\n",
       "  <thead>\n",
       "    <tr style=\"text-align: right;\">\n",
       "      <th></th>\n",
       "      <th>startDate</th>\n",
       "      <th>endDate</th>\n",
       "      <th>value</th>\n",
       "      <th>date</th>\n",
       "      <th>hour</th>\n",
       "      <th>dow</th>\n",
       "      <th>daytime</th>\n",
       "    </tr>\n",
       "  </thead>\n",
       "  <tbody>\n",
       "    <tr>\n",
       "      <th>424</th>\n",
       "      <td>2019-12-22 14:16:24+01:00</td>\n",
       "      <td>2019-12-22 14:46:24+01:00</td>\n",
       "      <td>31.0714</td>\n",
       "      <td>2019-12-22</td>\n",
       "      <td>15</td>\n",
       "      <td>6</td>\n",
       "      <td>1.0</td>\n",
       "    </tr>\n",
       "  </tbody>\n",
       "</table>\n",
       "</div>"
      ],
      "text/plain": [
       "                    startDate                   endDate    value        date  \\\n",
       "424 2019-12-22 14:16:24+01:00 2019-12-22 14:46:24+01:00  31.0714  2019-12-22   \n",
       "\n",
       "     hour  dow  daytime  \n",
       "424    15    6      1.0  "
      ]
     },
     "execution_count": 45,
     "metadata": {},
     "output_type": "execute_result"
    }
   ],
   "source": [
    "# 1. Lowest noise level\n",
    "df_noise.sort_values(by=['value'], ascending = True).head(1)"
   ]
  },
  {
   "cell_type": "code",
   "execution_count": 46,
   "metadata": {},
   "outputs": [
    {
     "data": {
      "text/html": [
       "<div>\n",
       "<style scoped>\n",
       "    .dataframe tbody tr th:only-of-type {\n",
       "        vertical-align: middle;\n",
       "    }\n",
       "\n",
       "    .dataframe tbody tr th {\n",
       "        vertical-align: top;\n",
       "    }\n",
       "\n",
       "    .dataframe thead th {\n",
       "        text-align: right;\n",
       "    }\n",
       "</style>\n",
       "<table border=\"1\" class=\"dataframe\">\n",
       "  <thead>\n",
       "    <tr style=\"text-align: right;\">\n",
       "      <th></th>\n",
       "      <th>startDate</th>\n",
       "      <th>endDate</th>\n",
       "      <th>value</th>\n",
       "      <th>date</th>\n",
       "      <th>hour</th>\n",
       "      <th>dow</th>\n",
       "      <th>daytime</th>\n",
       "    </tr>\n",
       "  </thead>\n",
       "  <tbody>\n",
       "    <tr>\n",
       "      <th>528</th>\n",
       "      <td>2020-01-06 11:07:43+01:00</td>\n",
       "      <td>2020-01-06 11:37:38+01:00</td>\n",
       "      <td>88.649</td>\n",
       "      <td>2020-01-06</td>\n",
       "      <td>12</td>\n",
       "      <td>0</td>\n",
       "      <td>1.0</td>\n",
       "    </tr>\n",
       "  </tbody>\n",
       "</table>\n",
       "</div>"
      ],
      "text/plain": [
       "                    startDate                   endDate   value        date  \\\n",
       "528 2020-01-06 11:07:43+01:00 2020-01-06 11:37:38+01:00  88.649  2020-01-06   \n",
       "\n",
       "     hour  dow  daytime  \n",
       "528    12    0      1.0  "
      ]
     },
     "execution_count": 46,
     "metadata": {},
     "output_type": "execute_result"
    }
   ],
   "source": [
    "# 2. Highest noise level\n",
    "df_noise.sort_values(by=['value'], ascending = False).head(1)"
   ]
  }
 ],
 "metadata": {
  "kernelspec": {
   "display_name": "Python 3",
   "language": "python",
   "name": "python3"
  },
  "language_info": {
   "codemirror_mode": {
    "name": "ipython",
    "version": 3
   },
   "file_extension": ".py",
   "mimetype": "text/x-python",
   "name": "python",
   "nbconvert_exporter": "python",
   "pygments_lexer": "ipython3",
   "version": "3.7.3"
  }
 },
 "nbformat": 4,
 "nbformat_minor": 4
}
